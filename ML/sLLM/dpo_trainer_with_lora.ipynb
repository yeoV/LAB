{
 "cells": [
  {
   "cell_type": "markdown",
   "metadata": {},
   "source": [
    "# DPO Trainer\n",
    "\n",
    "- model , model_refence 2개의 모델을 통해서 DPO 방식을 통해 학습하는 코드\n",
    "- SFT, FFT 을 통해서 만들어진 Base model 에 필요 Task에 맞게 강화학습을 진행\n",
    "  - 예) safety, helpfullness 와 같은 특정 모델에 맞게 학습\n",
    "- PPO 방식과 다르게 평가 모델을 따로 개발하지 않고, reference 모델을 두고서 **Chosen / Reject** 방식으로 데이터를 구분해가며 학습하는 방식\n",
    "\n",
    "\n",
    "### PPO 방식의 문제?\n",
    "- 기존 방식은 대답을 rank로 분류해서 loss 계산해서 학습하거나 사용. DPO 처럼 Chosen, Rejected 의 방식이 아님\n",
    "- 문제 )\n",
    "  -  평가모델에 대한 성능 평가는 어떻게 할 것인가?, 평가 모델은 오버피팅 해두는 것이 맞는가?... \n",
    "  - 평가 모델에 대한 성능이 좋아야 함. 보통 GPT4 도 많이 사용\n",
    "  - 평가 모델을 위한 학습 데이터셋 구축이 필요 -> 한국 데이터의 경우 양질의 데이터가 많지 않음\n",
    "  - 평가모델 학습 방법은??"
   ]
  },
  {
   "cell_type": "markdown",
   "metadata": {},
   "source": [
    "## Lib"
   ]
  },
  {
   "cell_type": "code",
   "execution_count": 11,
   "metadata": {},
   "outputs": [],
   "source": [
    "import os\n",
    "import torch\n",
    "from tqdm import tqdm \n",
    "import random\n",
    "import gc\n",
    "\n",
    "from transformers import AutoTokenizer, TrainingArguments, AutoModelForCausalLM, BitsAndBytesConfig\n",
    "from datasets import Dataset, load_dataset\n",
    "from trl import SFTTrainer, DPOTrainer, DataCollatorForCompletionOnlyLM\n",
    "from peft import PeftModel, LoraConfig, prepare_model_for_kbit_training, get_peft_model"
   ]
  },
  {
   "cell_type": "markdown",
   "metadata": {},
   "source": [
    "## BitsAndBytes"
   ]
  },
  {
   "cell_type": "code",
   "execution_count": 12,
   "metadata": {},
   "outputs": [],
   "source": [
    "output_dir = \"\"\n",
    "model_name = \"\"\n",
    "\n",
    "bnb_config = BitsAndBytesConfig(\n",
    "    load_in_4bit=True,\n",
    "    bnb_4bit_quant_typr=\"nf4\",\n",
    "    bnb_4bit_compute_dtype=torch.bfloat16\n",
    ")"
   ]
  },
  {
   "cell_type": "markdown",
   "metadata": {},
   "source": [
    "## Model"
   ]
  },
  {
   "cell_type": "code",
   "execution_count": null,
   "metadata": {},
   "outputs": [],
   "source": [
    "model = AutoModelForCausalLM.from_pretrained(model_name, torch_dtype=torch.bfloat16, quantization=bnb_config, device_map=\"auto\")\n",
    "model.config.use_cache=False\n",
    "model = prepare_model_for_kbit_training(model)\n",
    "\n",
    "model_ref = AutoModelForCausalLM.from_pretrained(model_name, torch_dtype=torch.bfloat16, quantization=bnb_config, device_map=\"auto\")\n",
    "\n",
    "tokenizer = AutoTokenizer.from_pretrained(model_name)\n",
    "tokenizer.pad_token = tokenizer.eos_token"
   ]
  },
  {
   "cell_type": "markdown",
   "metadata": {},
   "source": [
    "## Data"
   ]
  },
  {
   "cell_type": "code",
   "execution_count": null,
   "metadata": {},
   "outputs": [],
   "source": [
    "data_file = {\"train\":\"\"}\n",
    "dataset = load_dataset(\"json\", data_files=data_file, split=\"train\")\n",
    "print(f\"Dataset size : {len(dataset)}\")"
   ]
  },
  {
   "cell_type": "code",
   "execution_count": null,
   "metadata": {},
   "outputs": [],
   "source": [
    "dataset"
   ]
  },
  {
   "cell_type": "code",
   "execution_count": null,
   "metadata": {},
   "outputs": [],
   "source": [
    "# DATA 검수\n",
    "random.seed(42)\n",
    "temp = random.sample(list(dataset), 1000)\n",
    "# temp[:2]\n",
    "\n",
    "sampled_dataset = Dataset.from_list(temp)"
   ]
  },
  {
   "cell_type": "code",
   "execution_count": 19,
   "metadata": {},
   "outputs": [],
   "source": [
    "def return_prompt_response(samples):\n",
    "    return {\n",
    "        \"prompt\" : [\n",
    "            f\"{system}\\n### Input: ```{question}```\\n### Output: \"\n",
    "            for (system, question) in zip(samples['system'], samples['question'])\n",
    "        ],\n",
    "        \"chosen\": samples[\"chosen\"],\n",
    "        \"rejected\": samples[\"rejected\"],\n",
    "    }\n",
    "    "
   ]
  },
  {
   "cell_type": "code",
   "execution_count": null,
   "metadata": {},
   "outputs": [],
   "source": [
    "origin_columns = sampled_dataset.origin_columns\n",
    "\n",
    "sampled_dataset = sampled_dataset.map(\n",
    "    return_prompt_response,\n",
    "    batched=True,\n",
    "    remove_columns=origin_columns\n",
    ")\n",
    "\n",
    "# sampled_dataset 확인"
   ]
  },
  {
   "cell_type": "markdown",
   "metadata": {},
   "source": [
    "## PEFT\n",
    "- 파라미터의 일부 값만 수정하는 학습 방식."
   ]
  },
  {
   "cell_type": "code",
   "execution_count": null,
   "metadata": {},
   "outputs": [],
   "source": [
    "def print_trainable_param(model):\n",
    "    \"\"\"\n",
    "    print the number of trainable param in the model\n",
    "    \"\"\"\n",
    "    trainable_params = 0\n",
    "    all_param = 0\n",
    "    for _, param in model.named_parameters():\n",
    "        all_param += param.numel()\n",
    "        if param.requires_grad:\n",
    "            trainable_params += param.numel()\n",
    "\n",
    "    print(\n",
    "        f\"trainable params : {trainable_params} || all params: {all_param} || trainables%: {100 * trainable_params / all_param}\"\n",
    "    )"
   ]
  },
  {
   "cell_type": "code",
   "execution_count": null,
   "metadata": {},
   "outputs": [],
   "source": [
    "peft_config = LoraConfig(\n",
    "    r = 64,\n",
    "    lora_alpha=128,\n",
    "    target_modules=[\"q_proj\",\"k_proj\",\"v_proj\",\"o_proj\", \"gate_proj\", \"up_proj\", \"down_proj\"],\n",
    "    lora_dropout=0.05,\n",
    "    bias=\"none\",\n",
    "    task_type=\"CASUAL_LM\"\n",
    ")"
   ]
  },
  {
   "cell_type": "code",
   "execution_count": null,
   "metadata": {},
   "outputs": [],
   "source": [
    "model = get_peft_model(model, peft_config)\n",
    "print_trainable_param(model)"
   ]
  },
  {
   "cell_type": "markdown",
   "metadata": {},
   "source": [
    "## Training"
   ]
  },
  {
   "cell_type": "code",
   "execution_count": null,
   "metadata": {},
   "outputs": [],
   "source": [
    "training_args = TrainingArguments(\n",
    "    num_train_epochs=3,\n",
    "    learning_rate=2e-4,\n",
    "    per_device_train_batch_size=2,\n",
    "    gradient_accumulation_steps=8,\n",
    "    gradient_checkpointing=True,\n",
    "    max_grad_norm=0.3,\n",
    "    save_steps=50,\n",
    "    logging_steps=10,\n",
    "    bf16=True,\n",
    "    output_dir=output_dir,\n",
    "    optim=\"paged_adamw_32bit\",\n",
    "    lr_scheduler_type=\"cosine\",\n",
    "    warmup_ratio=0.05,\n",
    "    remove_unused_columns=False\n",
    ")"
   ]
  },
  {
   "cell_type": "code",
   "execution_count": null,
   "metadata": {},
   "outputs": [],
   "source": [
    "dpo_trainer = DPOTrainer(\n",
    "    model,\n",
    "    model_ref,\n",
    "    args=training_args,\n",
    "    beta=0.1,\n",
    "    train_dataset=sampled_dataset,\n",
    "    tokenizer=tokenizer,\n",
    "    max_prompt_length=2048,\n",
    "    max_length=4096,\n",
    "    \n",
    ")\n",
    "\n",
    "dpo_trainer.train()\n",
    "dpo_trainer.save_model(output_dir)\n",
    "\n",
    "output_dir = os.path.join(output_dir, \"final_checkpoint\")\n",
    "dpo_trainer.model.save_pretrained(output_dir)\n",
    "tokenizer.save_pretrained(output_dir)"
   ]
  },
  {
   "cell_type": "markdown",
   "metadata": {},
   "source": [
    "## Cleaning"
   ]
  },
  {
   "cell_type": "code",
   "execution_count": null,
   "metadata": {},
   "outputs": [],
   "source": [
    "del dpo_trainer, model, model_ref\n",
    "gc.collect()\n",
    "torch.cuda.empty_cache()"
   ]
  }
 ],
 "metadata": {
  "kernelspec": {
   "display_name": "py310",
   "language": "python",
   "name": "python3"
  },
  "language_info": {
   "codemirror_mode": {
    "name": "ipython",
    "version": 3
   },
   "file_extension": ".py",
   "mimetype": "text/x-python",
   "name": "python",
   "nbconvert_exporter": "python",
   "pygments_lexer": "ipython3",
   "version": "3.10.8"
  }
 },
 "nbformat": 4,
 "nbformat_minor": 2
}
